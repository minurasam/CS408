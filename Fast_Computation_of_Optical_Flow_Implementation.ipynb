{
  "nbformat": 4,
  "nbformat_minor": 0,
  "metadata": {
    "colab": {
      "name": "Fast Computation of Optical Flow Implementation.ipynb",
      "provenance": [],
      "authorship_tag": "ABX9TyNwAObY4YJnhHdJc2Sy8DBP",
      "include_colab_link": true
    },
    "kernelspec": {
      "name": "python3",
      "display_name": "Python 3"
    },
    "language_info": {
      "name": "python"
    }
  },
  "cells": [
    {
      "cell_type": "markdown",
      "metadata": {
        "id": "view-in-github",
        "colab_type": "text"
      },
      "source": [
        "<a href=\"https://colab.research.google.com/github/minurasam/CS408/blob/main/Fast_Computation_of_Optical_Flow_Implementation.ipynb\" target=\"_parent\"><img src=\"https://colab.research.google.com/assets/colab-badge.svg\" alt=\"Open In Colab\"/></a>"
      ]
    },
    {
      "cell_type": "markdown",
      "metadata": {
        "id": "S4Cw9FySkIHv"
      },
      "source": [
        "# **Fast Computation of Optical Flow**\n",
        "\n",
        "## Implementation"
      ]
    },
    {
      "cell_type": "code",
      "metadata": {
        "id": "aBUSlf7Yj9ok"
      },
      "source": [
        "import cv2 as cv\n",
        "from google.colab.patches import cv2_imshow\n",
        "import numpy as np"
      ],
      "execution_count": 1,
      "outputs": []
    },
    {
      "cell_type": "code",
      "metadata": {
        "colab": {
          "base_uri": "https://localhost:8080/",
          "height": 231
        },
        "id": "NCjzRTEmkCkf",
        "outputId": "e9253019-65a2-4537-e939-34624e823006"
      },
      "source": [
        "# The video feed is read in as\n",
        "# a VideoCapture object\n",
        "cap = cv.VideoCapture(\"content/Traffic.mp4\")\n",
        "\n",
        "# ret = a boolean return value from\n",
        "# getting the frame, first_frame = the\n",
        "# first frame in the entire video sequence\n",
        "ret, first_frame = cap.read()\n",
        "\n",
        "# Converts frame to grayscale because we\n",
        "# only need the luminance channel for\n",
        "# detecting edges - less computationally\n",
        "# expensive\n",
        "prev_gray = cv.cvtColor(first_frame, cv.COLOR_BGR2GRAY)\n",
        "\n",
        "# Creates an image filled with zero\n",
        "# intensities with the same dimensions\n",
        "# as the frame\n",
        "mask = np.zeros_like(first_frame)\n",
        "\n",
        "# Sets image saturation to maximum\n",
        "mask[..., 1] = 255\n",
        "\n",
        "while(cap.isOpened()):\n",
        "\t\n",
        "\t# ret = a boolean return value from getting\n",
        "\t# the frame, frame = the current frame being\n",
        "\t# projected in the video\n",
        "\tret, frame = cap.read()\n",
        "\t\n",
        "\t# Opens a new window and displays the input\n",
        "\t# frame\n",
        "\tcv2_imshow(frame)\n",
        "\t\n",
        "\t# Converts each frame to grayscale - we previously\n",
        "\t# only converted the first frame to grayscale\n",
        "\tgray = cv.cvtColor(frame, cv.COLOR_BGR2GRAY)\n",
        "\t\n",
        "\t# Calculates dense optical flow by Farneback method\n",
        "\tflow = cv.calcOpticalFlowFarneback(prev_gray, gray,\n",
        "\t\t\t\t\t\t\t\t\tNone,\n",
        "\t\t\t\t\t\t\t\t\t0.5, 3, 15, 3, 5, 1.2, 0)\n",
        "\t\n",
        "\t# Computes the magnitude and angle of the 2D vectors\n",
        "\tmagnitude, angle = cv.cartToPolar(flow[..., 0], flow[..., 1])\n",
        "\t\n",
        "\t# Sets image hue according to the optical flow\n",
        "\t# direction\n",
        "\tmask[..., 0] = angle * 180 / np.pi / 2\n",
        "\t\n",
        "\t# Sets image value according to the optical flow\n",
        "\t# magnitude (normalized)\n",
        "\tmask[..., 2] = cv.normalize(magnitude, None, 0, 255, cv.NORM_MINMAX)\n",
        "\t\n",
        "\t# Converts HSV to RGB (BGR) color representation\n",
        "\trgb = cv.cvtColor(mask, cv.COLOR_HSV2BGR)\n",
        "\t\n",
        "\t# Opens a new window and displays the output frame\n",
        "\tcv2_imshow(rgb)\n",
        "\t\n",
        "\t# Updates previous frame\n",
        "\tprev_gray = gray\n",
        "\t\n",
        "\t# Frames are read by intervals of 1 millisecond. The\n",
        "\t# programs breaks out of the while loop when the\n",
        "\t# user presses the 'q' key\n",
        "\tif cv.waitKey(1) & 0xFF == ord('q'):\n",
        "\t\tbreak\n",
        "\n",
        "# The following frees up resources and\n",
        "# closes all windows\n",
        "cap.release()\n",
        "cv.destroyAllWindows()\n"
      ],
      "execution_count": 2,
      "outputs": [
        {
          "output_type": "error",
          "ename": "error",
          "evalue": "ignored",
          "traceback": [
            "\u001b[0;31m---------------------------------------------------------------------------\u001b[0m",
            "\u001b[0;31merror\u001b[0m                                     Traceback (most recent call last)",
            "\u001b[0;32m<ipython-input-2-ed350a148ff1>\u001b[0m in \u001b[0;36m<module>\u001b[0;34m()\u001b[0m\n\u001b[1;32m     12\u001b[0m \u001b[0;31m# detecting edges - less computationally\u001b[0m\u001b[0;34m\u001b[0m\u001b[0;34m\u001b[0m\u001b[0;34m\u001b[0m\u001b[0m\n\u001b[1;32m     13\u001b[0m \u001b[0;31m# expensive\u001b[0m\u001b[0;34m\u001b[0m\u001b[0;34m\u001b[0m\u001b[0;34m\u001b[0m\u001b[0m\n\u001b[0;32m---> 14\u001b[0;31m \u001b[0mprev_gray\u001b[0m \u001b[0;34m=\u001b[0m \u001b[0mcv\u001b[0m\u001b[0;34m.\u001b[0m\u001b[0mcvtColor\u001b[0m\u001b[0;34m(\u001b[0m\u001b[0mfirst_frame\u001b[0m\u001b[0;34m,\u001b[0m \u001b[0mcv\u001b[0m\u001b[0;34m.\u001b[0m\u001b[0mCOLOR_BGR2GRAY\u001b[0m\u001b[0;34m)\u001b[0m\u001b[0;34m\u001b[0m\u001b[0;34m\u001b[0m\u001b[0m\n\u001b[0m\u001b[1;32m     15\u001b[0m \u001b[0;34m\u001b[0m\u001b[0m\n\u001b[1;32m     16\u001b[0m \u001b[0;31m# Creates an image filled with zero\u001b[0m\u001b[0;34m\u001b[0m\u001b[0;34m\u001b[0m\u001b[0;34m\u001b[0m\u001b[0m\n",
            "\u001b[0;31merror\u001b[0m: OpenCV(4.1.2) /io/opencv/modules/imgproc/src/color.cpp:182: error: (-215:Assertion failed) !_src.empty() in function 'cvtColor'\n"
          ]
        }
      ]
    },
    {
      "cell_type": "code",
      "metadata": {
        "id": "rW2YojFfqQP9"
      },
      "source": [
        ""
      ],
      "execution_count": null,
      "outputs": []
    }
  ]
}