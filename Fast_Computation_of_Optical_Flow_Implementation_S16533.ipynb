{
  "nbformat": 4,
  "nbformat_minor": 0,
  "metadata": {
    "colab": {
      "name": "Fast Computation of Optical Flow Implementation_S16533.ipynb",
      "provenance": [],
      "collapsed_sections": [],
      "authorship_tag": "ABX9TyNK6xV3Z1PRAx1JrKfE1Xqa",
      "include_colab_link": true
    },
    "kernelspec": {
      "display_name": "Python 3",
      "name": "python3"
    },
    "language_info": {
      "name": "python"
    }
  },
  "cells": [
    {
      "cell_type": "markdown",
      "metadata": {
        "id": "view-in-github",
        "colab_type": "text"
      },
      "source": [
        "<a href=\"https://colab.research.google.com/github/minurasam/CS408/blob/main/Fast_Computation_of_Optical_Flow_Implementation_S16533.ipynb\" target=\"_parent\"><img src=\"https://colab.research.google.com/assets/colab-badge.svg\" alt=\"Open In Colab\"/></a>"
      ]
    },
    {
      "cell_type": "markdown",
      "metadata": {
        "id": "S4Cw9FySkIHv"
      },
      "source": [
        "# **Fast Computation of Optical Flow**\n",
        "\n",
        "## Implementation\n",
        "\n",
        "Dense Optical Flow\n"
      ]
    },
    {
      "cell_type": "code",
      "metadata": {
        "id": "aBUSlf7Yj9ok"
      },
      "source": [
        "import cv2 as cv\n",
        "from google.colab.patches import cv2_imshow\n",
        "import numpy as np"
      ],
      "execution_count": null,
      "outputs": []
    },
    {
      "cell_type": "code",
      "metadata": {
        "id": "NCjzRTEmkCkf"
      },
      "source": [
        "# The video feed is read in as\n",
        "# a VideoCapture object\n",
        "cap = cv.VideoCapture(\"/content/Traffic2.mp4\")\n",
        "\n",
        "# ret = a boolean return value from\n",
        "# getting the frame, first_frame = the\n",
        "# first frame in the entire video sequence\n",
        "ret, first_frame = cap.read()\n",
        "\n",
        "# Converts frame to grayscale because we\n",
        "# only need the luminance channel for\n",
        "# detecting edges - less computationally\n",
        "# expensive\n",
        "prev_gray = cv.cvtColor(first_frame, cv.COLOR_BGR2GRAY)\n",
        "\n",
        "# Creates an image filled with zero\n",
        "# intensities with the same dimensions\n",
        "# as the frame\n",
        "mask = np.zeros_like(first_frame)\n",
        "\n",
        "# Sets image saturation to maximum\n",
        "mask[..., 1] = 255\n",
        "\n"
      ],
      "execution_count": null,
      "outputs": []
    },
    {
      "cell_type": "code",
      "metadata": {
        "id": "rW2YojFfqQP9"
      },
      "source": [
        "while(cap.isOpened()):\n",
        "\t\n",
        "\t# ret = a boolean return value from getting\n",
        "\t# the frame, frame = the current frame being\n",
        "\t# projected in the video\n",
        "\tret, frame = cap.read()\n",
        "\t\n",
        "\t# Opens a new window and displays the input\n",
        "\t# frame\n",
        "\tcv2_imshow(frame)\n",
        "\t\n",
        "\t# Converts each frame to grayscale - we previously\n",
        "\t# only converted the first frame to grayscale\n",
        "\tgray = cv.cvtColor(frame, cv.COLOR_BGR2GRAY)\n",
        "\t\n",
        "\t# Calculates dense optical flow by Farneback method\n",
        "\tflow = cv.calcOpticalFlowFarneback(prev_gray, gray,\n",
        "\t\t\t\t\t\t\t\t\tNone, .5, 3, 15, 3, 5, 1.2, 0)\n",
        "\t\n",
        "\t# Computes the magnitude and angle of the 2D vectors\n",
        "\tmagnitude, angle = cv.cartToPolar(flow[..., 0], flow[..., 1])\n",
        "\t\n",
        "\t# Sets image hue according to the optical flow\n",
        "\t# direction\n",
        "\tmask[..., 0] = angle * 180 / np.pi / 2\n",
        "\t\n",
        "\t# Sets image value according to the optical flow\n",
        "\t# magnitude (normalized)\n",
        "\tmask[..., 2] = cv.normalize(magnitude, None, 0, 255, cv.NORM_MINMAX)\n",
        "\t\n",
        "\t# Converts HSV to RGB (BGR) color representation\n",
        "\trgb = cv.cvtColor(mask, cv.COLOR_HSV2BGR)\n",
        "\t\n",
        "\t# Opens a new window and displays the output frame\n",
        "\tcv2_imshow(rgb)\n",
        "\t\n",
        "\t# Updates previous frame\n",
        "\tprev_gray = gray\n",
        "\t\n",
        "\t# Frames are read by intervals of 1 millisecond. The\n",
        "\t# programs breaks out of the while loop when the\n",
        "\t# user presses the 'q' key\n",
        "\tif cv.waitKey(1) & 0xFF == ord('q'):\n",
        "\t\tbreak\n",
        "\n",
        "# The following frees up resources and\n",
        "# closes all windows\n",
        "cap.release()\n",
        "cv.destroyAllWindows()\n"
      ],
      "execution_count": null,
      "outputs": []
    },
    {
      "cell_type": "markdown",
      "metadata": {
        "id": "-9Z2a4MRwP-S"
      },
      "source": [
        "# OpenCV implementations of Optical flow on **Image Data**"
      ]
    },
    {
      "cell_type": "code",
      "metadata": {
        "id": "RDRTmVcklQlN"
      },
      "source": [
        "\n",
        "nums = [\"07\", \"08\", \"09\", \"10\", \"11\", \"12\", \"13\", \"14\"]\n",
        "\n",
        "cap1 = cv.imread(\"/content/basketball/frame07.png\")\n",
        "\n",
        "first_frame = cap1\n",
        "\n",
        "for k in nums:\n",
        "  prev_gray = cv.cvtColor(first_frame, cv.COLOR_BGR2GRAY)\n",
        "\n",
        "  mask = np.zeros_like(first_frame)\n",
        "\n",
        "  mask[..., 1] = 255\n",
        "\n",
        "  cap = cv.imread(\"/content/basketball/frame\"+ k +\".png\")\n",
        "  frame = cap\n",
        "    \n",
        "  cv2_imshow(frame)\n",
        "    \n",
        "  gray = cv.cvtColor(frame, cv.COLOR_BGR2GRAY)\n",
        "\n",
        "  flow = cv.calcOpticalFlowFarneback(prev_gray, gray,\n",
        "                    None, .5, 3, 15, 3, 5, 1.2, 0)\n",
        "\n",
        "  magnitude, angle = cv.cartToPolar(flow[..., 0], flow[..., 1])\n",
        "    \n",
        "  mask[..., 0] = angle * 180 / np.pi / 2\n",
        "\n",
        "  mask[..., 2] = cv.normalize(magnitude, None, 0, 255, cv.NORM_MINMAX)\n",
        "    \n",
        "  rgb = cv.cvtColor(mask, cv.COLOR_HSV2BGR)\n",
        "\n",
        "  cv2_imshow(rgb)\n",
        "\n",
        "  prev_gray = gray\n",
        "\n",
        "  if cv.waitKey(1) & 0xFF == ord('q'):\n",
        "    break\n",
        "\n",
        "cv.destroyAllWindows()"
      ],
      "execution_count": null,
      "outputs": []
    },
    {
      "cell_type": "markdown",
      "metadata": {
        "id": "zOHTB7IhqYYw"
      },
      "source": [
        "# **Lucas-Kanade Optical Flow in OpenCV**"
      ]
    },
    {
      "cell_type": "code",
      "metadata": {
        "id": "1fEUjrm5pI2g"
      },
      "source": [
        "import numpy as np\n",
        "import cv2\n",
        "\n",
        "cap = cv2.imread(\"/content/frame07.png\")\n",
        "\n",
        "# params for ShiTomasi corner detection\n",
        "feature_params = dict( maxCorners = 100,\n",
        "                       qualityLevel = 0.3,\n",
        "                       minDistance = 7,\n",
        "                       blockSize = 7 )\n",
        "\n",
        "# Parameters for lucas kanade optical flow\n",
        "lk_params = dict( winSize  = (15,15),\n",
        "                  maxLevel = 2,\n",
        "                  criteria = (cv2.TERM_CRITERIA_EPS | cv2.TERM_CRITERIA_COUNT, 10, 0.03))\n",
        "\n",
        "# Create some random colors\n",
        "color = np.random.randint(0,255,(100,3))\n",
        "\n",
        "# Take first frame and find corners in it\n",
        "old_frame = cap\n",
        "old_gray = cv2.cvtColor(old_frame, cv2.COLOR_BGR2GRAY)\n",
        "p0 = cv2.goodFeaturesToTrack(old_gray, mask = None, **feature_params)\n",
        "\n",
        "# Create a mask image for drawing purposes\n",
        "mask = np.zeros_like(old_frame)\n",
        "\n",
        "for k in nums:\n",
        "  cap = cv.imread(\"/content/frame\"+ k +\".png\")\n",
        "  frame = cap\n",
        "  frame_gray = cv2.cvtColor(frame, cv2.COLOR_BGR2GRAY)\n",
        "\n",
        "  # calculate optical flow\n",
        "  p1, st, err = cv2.calcOpticalFlowPyrLK(old_gray, frame_gray, p0, None, **lk_params)\n",
        "\n",
        "  # Select good points\n",
        "  good_new = p1[st==1]\n",
        "  good_old = p0[st==1]\n",
        "\n",
        "  # draw the tracks\n",
        "  for i,(new,old) in enumerate(zip(good_new,good_old)):\n",
        "    a,b = new.ravel()\n",
        "    c,d = old.ravel()\n",
        "    mask = cv2.line(mask, (a,b),(c,d), color[i].tolist(), 2)\n",
        "    frame = cv2.circle(frame,(a,b),5,color[i].tolist(),-1)\n",
        "  img = cv2.add(frame,mask)\n",
        "\n",
        "  cv2_imshow(img)\n",
        "  k = cv2.waitKey(30) & 0xff\n",
        "  if k == 27:\n",
        "    break\n",
        "\n",
        "  # Now update the previous frame and previous points\n",
        "  old_gray = frame_gray.copy()\n",
        "  p0 = good_new.reshape(-1,1,2)\n",
        "\n",
        "cv2.destroyAllWindows()"
      ],
      "execution_count": null,
      "outputs": []
    },
    {
      "cell_type": "markdown",
      "metadata": {
        "id": "KV6R1zdmrkEo"
      },
      "source": [
        "## Lucas-Kanade Optical Flow **ON A VIDEO**"
      ]
    },
    {
      "cell_type": "code",
      "metadata": {
        "id": "nDLD6ItVsjU_"
      },
      "source": [
        "import numpy as np\n",
        "import cv2\n",
        "\n",
        "cap = cv2.VideoCapture('/content/Traffic1.mp4')\n",
        "\n",
        "# params for ShiTomasi corner detection\n",
        "feature_params = dict( maxCorners = 100,\n",
        "                       qualityLevel = 0.3,\n",
        "                       minDistance = 7,\n",
        "                       blockSize = 7 )\n",
        "\n",
        "# Parameters for lucas kanade optical flow\n",
        "lk_params = dict( winSize  = (15,15),\n",
        "                  maxLevel = 2,\n",
        "                  criteria = (cv2.TERM_CRITERIA_EPS | cv2.TERM_CRITERIA_COUNT, 10, 0.03))\n",
        "\n",
        "# Create some random colors\n",
        "color = np.random.randint(0,255,(100,3))\n",
        "\n",
        "# Take first frame and find corners in it\n",
        "ret, old_frame = cap.read()\n",
        "old_gray = cv2.cvtColor(old_frame, cv2.COLOR_BGR2GRAY)\n",
        "p0 = cv2.goodFeaturesToTrack(old_gray, mask = None, **feature_params)\n",
        "\n",
        "# Create a mask image for drawing purposes\n",
        "mask = np.zeros_like(old_frame)\n",
        "\n",
        "while(1):\n",
        "    ret,frame = cap.read()\n",
        "    frame_gray = cv2.cvtColor(frame, cv2.COLOR_BGR2GRAY)\n",
        "\n",
        "    # calculate optical flow\n",
        "    p1, st, err = cv2.calcOpticalFlowPyrLK(old_gray, frame_gray, p0, None, **lk_params)\n",
        "\n",
        "    # Select good points\n",
        "    good_new = p1[st==1]\n",
        "    good_old = p0[st==1]\n",
        "\n",
        "    # draw the tracks\n",
        "    for i,(new,old) in enumerate(zip(good_new,good_old)):\n",
        "        a,b = new.ravel()\n",
        "        c,d = old.ravel()\n",
        "        mask = cv2.line(mask, (a,b),(c,d), color[i].tolist(), 2)\n",
        "        frame = cv2.circle(frame,(a,b),5,color[i].tolist(),-1)\n",
        "    img = cv2.add(frame,mask)\n",
        "\n",
        "    cv2_imshow(img)\n",
        "    k = cv2.waitKey(30) & 0xff\n",
        "    if k == 27:\n",
        "        break\n",
        "\n",
        "    # Now update the previous frame and previous points\n",
        "    old_gray = frame_gray.copy()\n",
        "    p0 = good_new.reshape(-1,1,2)\n",
        "\n",
        "cv2.destroyAllWindows()\n",
        "cap.release()"
      ],
      "execution_count": null,
      "outputs": []
    },
    {
      "cell_type": "code",
      "metadata": {
        "id": "ol7-kOjSsrm_"
      },
      "source": [
        "import numpy as np\n",
        "import cv2\n",
        "\n",
        "cap = cv2.VideoCapture('/content/Traffic3.mp4')\n",
        "\n",
        "# params for ShiTomasi corner detection\n",
        "feature_params = dict( maxCorners = 100,\n",
        "                       qualityLevel = 0.3,\n",
        "                       minDistance = 7,\n",
        "                       blockSize = 7 )\n",
        "\n",
        "# Parameters for lucas kanade optical flow\n",
        "lk_params = dict( winSize  = (15,15),\n",
        "                  maxLevel = 2,\n",
        "                  criteria = (cv2.TERM_CRITERIA_EPS | cv2.TERM_CRITERIA_COUNT, 10, 0.03))\n",
        "\n",
        "# Create some random colors\n",
        "color = np.random.randint(0,255,(100,3))\n",
        "\n",
        "# Take first frame and find corners in it\n",
        "ret, old_frame = cap.read()\n",
        "old_gray = cv2.cvtColor(old_frame, cv2.COLOR_BGR2GRAY)\n",
        "p0 = cv2.goodFeaturesToTrack(old_gray, mask = None, **feature_params)\n",
        "\n",
        "# Create a mask image for drawing purposes\n",
        "mask = np.zeros_like(old_frame)\n",
        "\n",
        "while(1):\n",
        "    ret,frame = cap.read()\n",
        "    frame_gray = cv2.cvtColor(frame, cv2.COLOR_BGR2GRAY)\n",
        "\n",
        "    # calculate optical flow\n",
        "    p1, st, err = cv2.calcOpticalFlowPyrLK(old_gray, frame_gray, p0, None, **lk_params)\n",
        "\n",
        "    # Select good points\n",
        "    good_new = p1[st==1]\n",
        "    good_old = p0[st==1]\n",
        "\n",
        "    # draw the tracks\n",
        "    for i,(new,old) in enumerate(zip(good_new,good_old)):\n",
        "        a,b = new.ravel()\n",
        "        c,d = old.ravel()\n",
        "        mask = cv2.line(mask, (a,b),(c,d), color[i].tolist(), 2)\n",
        "        frame = cv2.circle(frame,(a,b),5,color[i].tolist(),-1)\n",
        "    img = cv2.add(frame,mask)\n",
        "\n",
        "    cv2_imshow(img)\n",
        "    k = cv2.waitKey(30) & 0xff\n",
        "    if k == 27:\n",
        "        break\n",
        "\n",
        "    # Now update the previous frame and previous points\n",
        "    old_gray = frame_gray.copy()\n",
        "    p0 = good_new.reshape(-1,1,2)\n",
        "\n",
        "cv2.destroyAllWindows()\n",
        "cap.release()"
      ],
      "execution_count": null,
      "outputs": []
    },
    {
      "cell_type": "code",
      "metadata": {
        "id": "uRtArnKQuT5o"
      },
      "source": [
        ""
      ],
      "execution_count": null,
      "outputs": []
    }
  ]
}